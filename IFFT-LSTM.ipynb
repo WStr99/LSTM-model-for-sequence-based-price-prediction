{
 "cells": [
  {
   "cell_type": "code",
   "execution_count": 129,
   "id": "d9889ccf",
   "metadata": {},
   "outputs": [],
   "source": [
    "import torch\n",
    "import torch.nn as nn\n",
    "import torch.optim as optim\n",
    "from torch.utils.data import Dataset, DataLoader\n",
    "import torchvision\n",
    "import torchvision.transforms as transforms\n",
    "from torchvision.datasets import ImageFolder\n",
    "import timm\n",
    "from sklearn.preprocessing import StandardScaler\n",
    "\n",
    "import matplotlib.pyplot as plt\n",
    "import pandas as pd\n",
    "import numpy as np\n",
    "from tqdm.notebook import tqdm\n",
    "import random"
   ]
  },
  {
   "cell_type": "markdown",
   "id": "2da71307",
   "metadata": {},
   "source": [
    "# Preparing data"
   ]
  },
  {
   "cell_type": "code",
   "execution_count": 150,
   "id": "bf828cc2",
   "metadata": {},
   "outputs": [
    {
     "name": "stdout",
     "output_type": "stream",
     "text": [
      "Hit Stop-Loss (-2%): 12577\n",
      "Hit Target (+4%): 19730\n",
      "Hit Target (+4%): 19759\n",
      "Training Data: 41652\n",
      "Testing Data: 10414\n"
     ]
    },
    {
     "data": {
      "text/plain": [
       "Index(['Open', 'High', 'Low', 'Close', 'Volume', 'Close Eval', 'IFFT',\n",
       "       'IFFT Slope Short', 'IFFT Slope Mid', 'IFFT Slope Long', 'ATR',\n",
       "       'SuperTrend', 'RSI', 'CCI', 'Volatility', 'OBV', 'CDL_DOJI',\n",
       "       'CDL_HAMMER', 'CDL_ENGULFING', 'CDL_HANGINGMAN', 'CDL_SHOOTINGSTAR',\n",
       "       'CDL_MORNINGSTAR', 'CDL_EVENINGSTAR', 'Price Change Short',\n",
       "       'Price Change Mid', 'Price Change Long', 'Direction'],\n",
       "      dtype='object')"
      ]
     },
     "execution_count": 150,
     "metadata": {},
     "output_type": "execute_result"
    }
   ],
   "source": [
    "# Import token data\n",
    "df = pd.read_csv('data/WIFUSDT6mo5m042.csv')\n",
    "\n",
    "# Remove values where IFFT Slope is 0\n",
    "df = df[40:].reset_index(drop=True)\n",
    "\n",
    "print(\"Hit Stop-Loss (-2%):\", (df['Direction'] == 0).sum())\n",
    "print(\"Hit Target (+4%):\", (df['Direction'] == -1).sum())\n",
    "print(\"Hit Target (+4%):\", (df['Direction'] == 1).sum())\n",
    "\n",
    "# Manual Train-Test Split\n",
    "train_proportion = int(len(df) * 0.8)\n",
    "df_train = df[:train_proportion]\n",
    "df_test = df[train_proportion:]\n",
    "\n",
    "# Output length of training and testing data\n",
    "print('Training Data:', len(df_train))\n",
    "print('Testing Data:', len(df_test))\n",
    "\n",
    "df_train.columns"
   ]
  },
  {
   "cell_type": "code",
   "execution_count": 151,
   "id": "6106545b",
   "metadata": {},
   "outputs": [],
   "source": [
    "# Train test split\n",
    "y_train = df_train['Direction']\n",
    "y_test =  df_test['Direction']\n",
    "X_train = df_train.drop(columns=['Direction', 'Open', 'High', 'Low'])\n",
    "X_test = df_test.drop(columns=['Direction', 'Open', 'High', 'Low'])\n",
    "\n",
    "#X_train.drop('Close Eval',axis = 1,inplace = True)\n",
    "#X_test.drop('Close Eval',axis = 1,inplace = True)\n",
    "\n",
    "# Original labels: -1 → down, 0 → flat, 1 → up\n",
    "# Map to: 0 → down, 1 → flat, 2 → up\n",
    "label_map = {-1: 0, 0: 1, 1: 2}\n",
    "y_train = y_train.map(label_map)\n",
    "y_test = y_test.map(label_map)"
   ]
  },
  {
   "cell_type": "code",
   "execution_count": 152,
   "id": "6e984eff",
   "metadata": {},
   "outputs": [
    {
     "data": {
      "text/plain": [
       "(41652, 23)"
      ]
     },
     "execution_count": 152,
     "metadata": {},
     "output_type": "execute_result"
    }
   ],
   "source": [
    "# Define continuous columns to be zscored\n",
    "''''\n",
    "continuous_cols = ['Open', 'High', 'Low', 'Close', 'Volume', 'IFFT', 'IFFT Slope Short','IFFT Slope Mid', 'IFFT Slope Long', 'ATR', 'SuperTrend', \n",
    "                   'RSI', 'CCI', 'Volatility', 'OBV', 'Price Change Short', 'Price Change Mid', 'Price Change Long']\n",
    "'''\n",
    "continuous_cols = ['Close', 'Volume', 'IFFT Slope Short', 'IFFT Slope Mid', 'IFFT Slope Long', 'ATR', 'SuperTrend','RSI', 'Volatility', 'OBV']\n",
    "\n",
    "# Standard scaler\n",
    "scaler = StandardScaler()\n",
    "\n",
    "# ZScore continuous training and testing data\n",
    "X_train[continuous_cols] = scaler.fit_transform(X_train[continuous_cols])\n",
    "X_test[continuous_cols] = scaler.fit_transform(X_test[continuous_cols])\n",
    "\n",
    "X_train.shape"
   ]
  },
  {
   "cell_type": "code",
   "execution_count": 153,
   "id": "6bdd75ea",
   "metadata": {},
   "outputs": [
    {
     "data": {
      "text/plain": [
       "(41632, 20, 23)"
      ]
     },
     "execution_count": 153,
     "metadata": {},
     "output_type": "execute_result"
    }
   ],
   "source": [
    "# Create windowed sequences\n",
    "def create_sequences(X, y, window_size):\n",
    "    Xs, ys = [], []\n",
    "    for i in range(len(X) - window_size):\n",
    "        Xs.append(X.iloc[i:i+window_size].values)\n",
    "        ys.append(y.iloc[i + window_size])  # Predict based on full window\n",
    "    return np.array(Xs), np.array(ys)\n",
    "\n",
    "window_size = 20  # e.g. 20 past steps (100 minutes if 5m data)\n",
    "X_train_seq, y_train_seq = create_sequences(X_train, y_train, window_size)\n",
    "X_test_seq, y_test_seq = create_sequences(X_test, y_test, window_size)\n",
    "\n",
    "X_train_seq.shape"
   ]
  },
  {
   "cell_type": "code",
   "execution_count": 154,
   "id": "83b0f0dc",
   "metadata": {},
   "outputs": [],
   "source": [
    "# Define PyTorch Dataset for sequences\n",
    "class cryptoDataset(Dataset):\n",
    "    def __init__(self, X, y):\n",
    "        self.X = torch.tensor(X, dtype=torch.float32)\n",
    "        self.y = torch.tensor(y, dtype=torch.long)  # Use float32 for regression\n",
    "\n",
    "    def __len__(self):\n",
    "        return len(self.X)\n",
    "\n",
    "    def __getitem__(self, idx):\n",
    "        return self.X[idx], self.y[idx]"
   ]
  },
  {
   "cell_type": "code",
   "execution_count": 155,
   "id": "d1dae74a",
   "metadata": {},
   "outputs": [],
   "source": [
    "# Create dataset instances\n",
    "train_dataset = cryptoDataset(X_train_seq, y_train_seq)\n",
    "test_dataset = cryptoDataset(X_test_seq, y_test_seq)\n",
    "\n",
    "batch_size = 32 # 32 for more stable gradient updates 128 for faster training if GPU can handle\n",
    "train_loader = DataLoader(train_dataset, batch_size=batch_size, shuffle=False)\n",
    "test_loader = DataLoader(test_dataset, batch_size=batch_size)"
   ]
  },
  {
   "cell_type": "markdown",
   "id": "c760c645",
   "metadata": {},
   "source": [
    "# Building Model"
   ]
  },
  {
   "cell_type": "code",
   "execution_count": 156,
   "id": "e16bba49",
   "metadata": {},
   "outputs": [],
   "source": [
    "# Attention layer definition\n",
    "# Attention assigns weights to each past time step based on how relevant it is\n",
    "class Attention(nn.Module):\n",
    "    def __init__(self, hidden_size):\n",
    "        super().__init__()\n",
    "        self.attention_weights = nn.Linear(hidden_size, 1)\n",
    "\n",
    "    def forward(self, lstm_outputs):\n",
    "        # lstm_outputs: [batch, seq_len, hidden_size]\n",
    "        scores = self.attention_weights(lstm_outputs)  # [batch, seq_len, 1]\n",
    "        weights = torch.softmax(scores, dim=1)          # normalize over seq_len\n",
    "        weighted = (lstm_outputs * weights).sum(dim=1)  # weighted sum: [batch, hidden_size]\n",
    "        return weighted"
   ]
  },
  {
   "cell_type": "code",
   "execution_count": 157,
   "id": "74b4b522",
   "metadata": {},
   "outputs": [],
   "source": [
    "class LSTMClassifier(nn.Module):\n",
    "    def __init__(self, input_size=25, hidden_size=128, num_layers=2, num_classes=3):\n",
    "        super().__init__()\n",
    "\n",
    "        # Save parameters for use elsewhere (e.g., creating hidden states)\n",
    "        self.hidden_size = hidden_size\n",
    "        self.num_layers = num_layers\n",
    "        \n",
    "        # Define the LSTM layer\n",
    "        self.lstm = nn.LSTM(input_size, hidden_size, num_layers, batch_first=True, dropout = 0.1)\n",
    "\n",
    "        # Attention\n",
    "        self.attention = Attention(hidden_size)\n",
    "\n",
    "        # Dropout (randomly turns off some neurons during training, which prevents the model from relying too heavily on any one feature and helps reduce overfitting)\n",
    "        self.dropout = nn.Dropout(p=0.1)\n",
    "\n",
    "        # Output layer maps from LSTM hidden size to number of output classes\n",
    "        self.output_layer = nn.Linear(hidden_size, num_classes)\n",
    "\n",
    "    def forward(self, X):\n",
    "\n",
    "        # Optionally initialize hidden and cell states\n",
    "        hidden_state = torch.zeros(self.num_layers, X.size(0), self.hidden_size).to(X.device)\n",
    "        cell_state = torch.zeros(self.num_layers, X.size(0), self.hidden_size).to(X.device)\n",
    "\n",
    "        # LSTM forward pass\n",
    "        out, _ = self.lstm(X, (hidden_state, cell_state))  # out: [batch, 128, hidden_size]\n",
    "\n",
    "        attn_out = self.attention(out) # [batch, hidden_size]\n",
    "\n",
    "        # Use the output from the final time step\n",
    "        dropped = self.dropout(attn_out)\n",
    "        out = self.output_layer(dropped) # [batch, num_classes]\n",
    "        return out"
   ]
  },
  {
   "cell_type": "code",
   "execution_count": 158,
   "id": "7fd92b7a",
   "metadata": {},
   "outputs": [
    {
     "name": "stdout",
     "output_type": "stream",
     "text": [
      "23\n",
      "Using device: cuda \n",
      "\n",
      "LSTMClassifier(\n",
      "  (lstm): LSTM(23, 128, num_layers=2, batch_first=True, dropout=0.1)\n",
      "  (attention): Attention(\n",
      "    (attention_weights): Linear(in_features=128, out_features=1, bias=True)\n",
      "  )\n",
      "  (dropout): Dropout(p=0.1, inplace=False)\n",
      "  (output_layer): Linear(in_features=128, out_features=3, bias=True)\n",
      ")\n"
     ]
    }
   ],
   "source": [
    "input_size = X_train.shape[1]\n",
    "print(input_size)\n",
    "\n",
    "device = torch.device('cuda' if torch.cuda.is_available() else 'cpu')\n",
    "print(\"Using device:\", device, '\\n')\n",
    "\n",
    "model = LSTMClassifier(input_size=input_size).to(device)\n",
    "print(model)"
   ]
  },
  {
   "cell_type": "code",
   "execution_count": 159,
   "id": "9891e8a3",
   "metadata": {},
   "outputs": [],
   "source": [
    "num_epochs = 50\n",
    "learning_rate = 1e-3\n",
    "\n",
    "loss_func = nn.CrossEntropyLoss()\n",
    "\n",
    "# Optimizer\n",
    "optimizer = optim.Adam(model.parameters(), lr=learning_rate)\n",
    "\n",
    "# Learning rate scheduler: Reduce LR when validation loss plateaus\n",
    "scheduler = optim.lr_scheduler.ReduceLROnPlateau(optimizer, mode='min', factor=0.5, patience=3)"
   ]
  },
  {
   "cell_type": "markdown",
   "id": "b2def8ec",
   "metadata": {},
   "source": [
    "# Training loop"
   ]
  },
  {
   "cell_type": "code",
   "execution_count": 160,
   "id": "fc10b9f3",
   "metadata": {},
   "outputs": [],
   "source": [
    "#for reproducibility\n",
    "torch.manual_seed(42)\n",
    "np.random.seed(42)\n",
    "random.seed(42)"
   ]
  },
  {
   "cell_type": "code",
   "execution_count": 161,
   "id": "1e8aa863",
   "metadata": {},
   "outputs": [
    {
     "data": {
      "application/vnd.jupyter.widget-view+json": {
       "model_id": "86fb52d48388480c8ec6ff64a9beda05",
       "version_major": 2,
       "version_minor": 0
      },
      "text/plain": [
       "Epoch 1/50:   0%|          | 0/1301 [00:00<?, ?it/s]"
      ]
     },
     "metadata": {},
     "output_type": "display_data"
    },
    {
     "name": "stdout",
     "output_type": "stream",
     "text": [
      "Epoch 1/50 | Train Loss: 1.0806 | Train Acc: 0.3637 | Val Loss: 1.0606 | Val Acc: 0.3717\n",
      "True labels:  [0, 0, 0, 0, 0, 1, 2, 1, 0, 0]\n",
      "Predicted   : [0, 0, 0, 0, 0, 0, 0, 0, 0, 0]\n"
     ]
    },
    {
     "data": {
      "application/vnd.jupyter.widget-view+json": {
       "model_id": "c5244ad0ed744c829b208a64b14e8f4f",
       "version_major": 2,
       "version_minor": 0
      },
      "text/plain": [
       "Epoch 2/50:   0%|          | 0/1301 [00:00<?, ?it/s]"
      ]
     },
     "metadata": {},
     "output_type": "display_data"
    },
    {
     "name": "stdout",
     "output_type": "stream",
     "text": [
      "Epoch 2/50 | Train Loss: 1.0716 | Train Acc: 0.3544 | Val Loss: 1.0572 | Val Acc: 0.3725\n",
      "True labels:  [0, 0, 0, 0, 0, 1, 2, 1, 0, 0]\n",
      "Predicted   : [0, 0, 0, 0, 0, 0, 0, 0, 0, 0]\n"
     ]
    },
    {
     "data": {
      "application/vnd.jupyter.widget-view+json": {
       "model_id": "494b9d9544b24ae6aef5aa0b0b92bbee",
       "version_major": 2,
       "version_minor": 0
      },
      "text/plain": [
       "Epoch 3/50:   0%|          | 0/1301 [00:00<?, ?it/s]"
      ]
     },
     "metadata": {},
     "output_type": "display_data"
    },
    {
     "name": "stdout",
     "output_type": "stream",
     "text": [
      "Epoch 3/50 | Train Loss: 1.0701 | Train Acc: 0.3593 | Val Loss: 1.0568 | Val Acc: 0.3683\n",
      "True labels:  [0, 0, 0, 0, 0, 1, 2, 1, 0, 0]\n",
      "Predicted   : [0, 0, 0, 0, 0, 0, 2, 0, 0, 0]\n"
     ]
    },
    {
     "data": {
      "application/vnd.jupyter.widget-view+json": {
       "model_id": "b5b813d665674316b163b708eacca1c5",
       "version_major": 2,
       "version_minor": 0
      },
      "text/plain": [
       "Epoch 4/50:   0%|          | 0/1301 [00:00<?, ?it/s]"
      ]
     },
     "metadata": {},
     "output_type": "display_data"
    },
    {
     "name": "stdout",
     "output_type": "stream",
     "text": [
      "Epoch 4/50 | Train Loss: 1.0675 | Train Acc: 0.3609 | Val Loss: 1.0548 | Val Acc: 0.3778\n",
      "True labels:  [0, 0, 0, 0, 0, 1, 2, 1, 0, 0]\n",
      "Predicted   : [0, 0, 0, 0, 2, 2, 2, 2, 2, 2]\n"
     ]
    },
    {
     "data": {
      "application/vnd.jupyter.widget-view+json": {
       "model_id": "51e8cd96e6074798aad93a18ef91360e",
       "version_major": 2,
       "version_minor": 0
      },
      "text/plain": [
       "Epoch 5/50:   0%|          | 0/1301 [00:00<?, ?it/s]"
      ]
     },
     "metadata": {},
     "output_type": "display_data"
    },
    {
     "name": "stdout",
     "output_type": "stream",
     "text": [
      "Epoch 5/50 | Train Loss: 1.0632 | Train Acc: 0.3813 | Val Loss: 1.0571 | Val Acc: 0.3772\n",
      "True labels:  [0, 0, 0, 0, 0, 1, 2, 1, 0, 0]\n",
      "Predicted   : [0, 0, 2, 2, 2, 2, 2, 2, 2, 2]\n"
     ]
    },
    {
     "data": {
      "application/vnd.jupyter.widget-view+json": {
       "model_id": "f61c41479b19438690dac60ef0f05800",
       "version_major": 2,
       "version_minor": 0
      },
      "text/plain": [
       "Epoch 6/50:   0%|          | 0/1301 [00:00<?, ?it/s]"
      ]
     },
     "metadata": {},
     "output_type": "display_data"
    },
    {
     "name": "stdout",
     "output_type": "stream",
     "text": [
      "Epoch 6/50 | Train Loss: 1.0586 | Train Acc: 0.3922 | Val Loss: 1.0603 | Val Acc: 0.3780\n",
      "True labels:  [0, 0, 0, 0, 0, 1, 2, 1, 0, 0]\n",
      "Predicted   : [0, 0, 0, 0, 0, 0, 0, 0, 0, 0]\n"
     ]
    },
    {
     "data": {
      "application/vnd.jupyter.widget-view+json": {
       "model_id": "a80171ce37424a50a8c5a3a1e1912a1b",
       "version_major": 2,
       "version_minor": 0
      },
      "text/plain": [
       "Epoch 7/50:   0%|          | 0/1301 [00:00<?, ?it/s]"
      ]
     },
     "metadata": {},
     "output_type": "display_data"
    },
    {
     "name": "stdout",
     "output_type": "stream",
     "text": [
      "Epoch 7/50 | Train Loss: 1.0465 | Train Acc: 0.4053 | Val Loss: 1.0633 | Val Acc: 0.3833\n",
      "True labels:  [0, 0, 0, 0, 0, 1, 2, 1, 0, 0]\n",
      "Predicted   : [0, 0, 0, 2, 0, 0, 0, 0, 0, 0]\n"
     ]
    },
    {
     "data": {
      "application/vnd.jupyter.widget-view+json": {
       "model_id": "2f03bf3d4ccc41acb5339c73a38bc6ac",
       "version_major": 2,
       "version_minor": 0
      },
      "text/plain": [
       "Epoch 8/50:   0%|          | 0/1301 [00:00<?, ?it/s]"
      ]
     },
     "metadata": {},
     "output_type": "display_data"
    },
    {
     "name": "stdout",
     "output_type": "stream",
     "text": [
      "Epoch 8/50 | Train Loss: 1.0330 | Train Acc: 0.4271 | Val Loss: 1.0751 | Val Acc: 0.3811\n",
      "True labels:  [0, 0, 0, 0, 0, 1, 2, 1, 0, 0]\n",
      "Predicted   : [0, 0, 0, 0, 0, 2, 0, 0, 0, 0]\n"
     ]
    },
    {
     "data": {
      "application/vnd.jupyter.widget-view+json": {
       "model_id": "9e97eb51dbe84140bbd581d36ef820e2",
       "version_major": 2,
       "version_minor": 0
      },
      "text/plain": [
       "Epoch 9/50:   0%|          | 0/1301 [00:00<?, ?it/s]"
      ]
     },
     "metadata": {},
     "output_type": "display_data"
    },
    {
     "name": "stdout",
     "output_type": "stream",
     "text": [
      "Epoch 9/50 | Train Loss: 1.0062 | Train Acc: 0.4617 | Val Loss: 1.0995 | Val Acc: 0.3844\n",
      "True labels:  [0, 0, 0, 0, 0, 1, 2, 1, 0, 0]\n",
      "Predicted   : [0, 0, 0, 0, 0, 0, 0, 0, 0, 0]\n"
     ]
    },
    {
     "data": {
      "application/vnd.jupyter.widget-view+json": {
       "model_id": "a8bba261f740438c9ee9aae7710f9f2c",
       "version_major": 2,
       "version_minor": 0
      },
      "text/plain": [
       "Epoch 10/50:   0%|          | 0/1301 [00:00<?, ?it/s]"
      ]
     },
     "metadata": {},
     "output_type": "display_data"
    },
    {
     "name": "stdout",
     "output_type": "stream",
     "text": [
      "Epoch 10/50 | Train Loss: 0.9762 | Train Acc: 0.4880 | Val Loss: 1.1195 | Val Acc: 0.3857\n",
      "True labels:  [0, 0, 0, 0, 0, 1, 2, 1, 0, 0]\n",
      "Predicted   : [2, 1, 0, 0, 2, 1, 2, 2, 1, 0]\n"
     ]
    },
    {
     "data": {
      "application/vnd.jupyter.widget-view+json": {
       "model_id": "94d2b5f114394c44abaf922ba19444c4",
       "version_major": 2,
       "version_minor": 0
      },
      "text/plain": [
       "Epoch 11/50:   0%|          | 0/1301 [00:00<?, ?it/s]"
      ]
     },
     "metadata": {},
     "output_type": "display_data"
    },
    {
     "name": "stdout",
     "output_type": "stream",
     "text": [
      "Epoch 11/50 | Train Loss: 0.9476 | Train Acc: 0.5117 | Val Loss: 1.1506 | Val Acc: 0.3852\n",
      "True labels:  [0, 0, 0, 0, 0, 1, 2, 1, 0, 0]\n",
      "Predicted   : [0, 0, 0, 0, 0, 0, 0, 0, 0, 0]\n"
     ]
    },
    {
     "data": {
      "application/vnd.jupyter.widget-view+json": {
       "model_id": "2f2425f3d9a541baabbd5648157138f2",
       "version_major": 2,
       "version_minor": 0
      },
      "text/plain": [
       "Epoch 12/50:   0%|          | 0/1301 [00:00<?, ?it/s]"
      ]
     },
     "metadata": {},
     "output_type": "display_data"
    },
    {
     "name": "stdout",
     "output_type": "stream",
     "text": [
      "Epoch 12/50 | Train Loss: 0.9210 | Train Acc: 0.5311 | Val Loss: 1.1825 | Val Acc: 0.3852\n",
      "True labels:  [0, 0, 0, 0, 0, 1, 2, 1, 0, 0]\n",
      "Predicted   : [1, 1, 1, 1, 1, 1, 1, 2, 0, 1]\n"
     ]
    },
    {
     "data": {
      "application/vnd.jupyter.widget-view+json": {
       "model_id": "f37df5664879470fbad6842062b44833",
       "version_major": 2,
       "version_minor": 0
      },
      "text/plain": [
       "Epoch 13/50:   0%|          | 0/1301 [00:00<?, ?it/s]"
      ]
     },
     "metadata": {},
     "output_type": "display_data"
    },
    {
     "name": "stdout",
     "output_type": "stream",
     "text": [
      "Epoch 13/50 | Train Loss: 0.8833 | Train Acc: 0.5604 | Val Loss: 1.2469 | Val Acc: 0.3828\n",
      "True labels:  [0, 0, 0, 0, 0, 1, 2, 1, 0, 0]\n",
      "Predicted   : [0, 0, 0, 0, 0, 0, 0, 0, 0, 0]\n"
     ]
    },
    {
     "data": {
      "application/vnd.jupyter.widget-view+json": {
       "model_id": "0df9369b5d0e42e2812add8fcb620c72",
       "version_major": 2,
       "version_minor": 0
      },
      "text/plain": [
       "Epoch 14/50:   0%|          | 0/1301 [00:00<?, ?it/s]"
      ]
     },
     "metadata": {},
     "output_type": "display_data"
    },
    {
     "name": "stdout",
     "output_type": "stream",
     "text": [
      "Epoch 14/50 | Train Loss: 0.8543 | Train Acc: 0.5822 | Val Loss: 1.2785 | Val Acc: 0.3792\n",
      "True labels:  [0, 0, 0, 0, 0, 1, 2, 1, 0, 0]\n",
      "Predicted   : [1, 0, 1, 1, 1, 1, 0, 0, 1, 0]\n"
     ]
    },
    {
     "data": {
      "application/vnd.jupyter.widget-view+json": {
       "model_id": "75780b5bcbae4690b34ed34a18103278",
       "version_major": 2,
       "version_minor": 0
      },
      "text/plain": [
       "Epoch 15/50:   0%|          | 0/1301 [00:00<?, ?it/s]"
      ]
     },
     "metadata": {},
     "output_type": "display_data"
    },
    {
     "name": "stdout",
     "output_type": "stream",
     "text": [
      "Epoch 15/50 | Train Loss: 0.8340 | Train Acc: 0.5966 | Val Loss: 1.3024 | Val Acc: 0.3807\n",
      "True labels:  [0, 0, 0, 0, 0, 1, 2, 1, 0, 0]\n",
      "Predicted   : [2, 0, 0, 0, 0, 0, 0, 0, 0, 0]\n"
     ]
    },
    {
     "data": {
      "application/vnd.jupyter.widget-view+json": {
       "model_id": "87a5f426a0d44526942d4a1bdd7cdbf8",
       "version_major": 2,
       "version_minor": 0
      },
      "text/plain": [
       "Epoch 16/50:   0%|          | 0/1301 [00:00<?, ?it/s]"
      ]
     },
     "metadata": {},
     "output_type": "display_data"
    },
    {
     "name": "stdout",
     "output_type": "stream",
     "text": [
      "Epoch 16/50 | Train Loss: 0.8104 | Train Acc: 0.6138 | Val Loss: 1.3221 | Val Acc: 0.3844\n",
      "True labels:  [0, 0, 0, 0, 0, 1, 2, 1, 0, 0]\n",
      "Predicted   : [0, 0, 0, 0, 0, 0, 0, 0, 0, 0]\n"
     ]
    },
    {
     "data": {
      "application/vnd.jupyter.widget-view+json": {
       "model_id": "5edf0d33f86a45b7baf9d30b0f48ea46",
       "version_major": 2,
       "version_minor": 0
      },
      "text/plain": [
       "Epoch 17/50:   0%|          | 0/1301 [00:00<?, ?it/s]"
      ]
     },
     "metadata": {},
     "output_type": "display_data"
    },
    {
     "name": "stdout",
     "output_type": "stream",
     "text": [
      "Epoch 17/50 | Train Loss: 0.7839 | Train Acc: 0.6319 | Val Loss: 1.3585 | Val Acc: 0.3881\n",
      "True labels:  [0, 0, 0, 0, 0, 1, 2, 1, 0, 0]\n",
      "Predicted   : [0, 0, 1, 1, 1, 0, 0, 1, 1, 1]\n"
     ]
    },
    {
     "data": {
      "application/vnd.jupyter.widget-view+json": {
       "model_id": "12dbabcdce554379b059e26ebf3d4664",
       "version_major": 2,
       "version_minor": 0
      },
      "text/plain": [
       "Epoch 18/50:   0%|          | 0/1301 [00:00<?, ?it/s]"
      ]
     },
     "metadata": {},
     "output_type": "display_data"
    },
    {
     "name": "stdout",
     "output_type": "stream",
     "text": [
      "Epoch 18/50 | Train Loss: 0.7689 | Train Acc: 0.6397 | Val Loss: 1.3780 | Val Acc: 0.3885\n",
      "True labels:  [0, 0, 0, 0, 0, 1, 2, 1, 0, 0]\n",
      "Predicted   : [0, 0, 0, 0, 0, 0, 1, 0, 0, 0]\n"
     ]
    },
    {
     "data": {
      "application/vnd.jupyter.widget-view+json": {
       "model_id": "9059ca25f5ac4a1f88dde816376bd036",
       "version_major": 2,
       "version_minor": 0
      },
      "text/plain": [
       "Epoch 19/50:   0%|          | 0/1301 [00:00<?, ?it/s]"
      ]
     },
     "metadata": {},
     "output_type": "display_data"
    },
    {
     "name": "stdout",
     "output_type": "stream",
     "text": [
      "Epoch 19/50 | Train Loss: 0.7575 | Train Acc: 0.6480 | Val Loss: 1.3964 | Val Acc: 0.3855\n",
      "True labels:  [0, 0, 0, 0, 0, 1, 2, 1, 0, 0]\n",
      "Predicted   : [2, 0, 0, 0, 0, 0, 0, 2, 0, 2]\n"
     ]
    },
    {
     "data": {
      "application/vnd.jupyter.widget-view+json": {
       "model_id": "2c8a9511c5174981aeb0f188b033fb60",
       "version_major": 2,
       "version_minor": 0
      },
      "text/plain": [
       "Epoch 20/50:   0%|          | 0/1301 [00:00<?, ?it/s]"
      ]
     },
     "metadata": {},
     "output_type": "display_data"
    },
    {
     "name": "stdout",
     "output_type": "stream",
     "text": [
      "Epoch 20/50 | Train Loss: 0.7444 | Train Acc: 0.6536 | Val Loss: 1.4120 | Val Acc: 0.3862\n",
      "True labels:  [0, 0, 0, 0, 0, 1, 2, 1, 0, 0]\n",
      "Predicted   : [0, 0, 0, 0, 1, 0, 0, 0, 0, 2]\n"
     ]
    },
    {
     "data": {
      "application/vnd.jupyter.widget-view+json": {
       "model_id": "a4d8a8fa45f440eea73fd4723de9867a",
       "version_major": 2,
       "version_minor": 0
      },
      "text/plain": [
       "Epoch 21/50:   0%|          | 0/1301 [00:00<?, ?it/s]"
      ]
     },
     "metadata": {},
     "output_type": "display_data"
    },
    {
     "name": "stdout",
     "output_type": "stream",
     "text": [
      "Epoch 21/50 | Train Loss: 0.7309 | Train Acc: 0.6638 | Val Loss: 1.4219 | Val Acc: 0.3868\n",
      "True labels:  [0, 0, 0, 0, 0, 1, 2, 1, 0, 0]\n",
      "Predicted   : [0, 0, 0, 0, 0, 0, 0, 0, 0, 0]\n"
     ]
    },
    {
     "data": {
      "application/vnd.jupyter.widget-view+json": {
       "model_id": "0bc5681b4d2a4e03afc850dc30615406",
       "version_major": 2,
       "version_minor": 0
      },
      "text/plain": [
       "Epoch 22/50:   0%|          | 0/1301 [00:00<?, ?it/s]"
      ]
     },
     "metadata": {},
     "output_type": "display_data"
    },
    {
     "name": "stdout",
     "output_type": "stream",
     "text": [
      "Epoch 22/50 | Train Loss: 0.7259 | Train Acc: 0.6690 | Val Loss: 1.4317 | Val Acc: 0.3878\n",
      "True labels:  [0, 0, 0, 0, 0, 1, 2, 1, 0, 0]\n",
      "Predicted   : [1, 0, 1, 0, 0, 0, 0, 0, 0, 0]\n"
     ]
    },
    {
     "data": {
      "application/vnd.jupyter.widget-view+json": {
       "model_id": "a7beba9af1664514961500d2aff7d5d7",
       "version_major": 2,
       "version_minor": 0
      },
      "text/plain": [
       "Epoch 23/50:   0%|          | 0/1301 [00:00<?, ?it/s]"
      ]
     },
     "metadata": {},
     "output_type": "display_data"
    },
    {
     "name": "stdout",
     "output_type": "stream",
     "text": [
      "Epoch 23/50 | Train Loss: 0.7169 | Train Acc: 0.6703 | Val Loss: 1.4389 | Val Acc: 0.3871\n",
      "True labels:  [0, 0, 0, 0, 0, 1, 2, 1, 0, 0]\n",
      "Predicted   : [0, 0, 0, 0, 0, 0, 2, 0, 0, 0]\n"
     ]
    },
    {
     "data": {
      "application/vnd.jupyter.widget-view+json": {
       "model_id": "62fa533f49ec492781b99b26d421d1b8",
       "version_major": 2,
       "version_minor": 0
      },
      "text/plain": [
       "Epoch 24/50:   0%|          | 0/1301 [00:00<?, ?it/s]"
      ]
     },
     "metadata": {},
     "output_type": "display_data"
    },
    {
     "name": "stdout",
     "output_type": "stream",
     "text": [
      "Epoch 24/50 | Train Loss: 0.7128 | Train Acc: 0.6745 | Val Loss: 1.4438 | Val Acc: 0.3845\n",
      "True labels:  [0, 0, 0, 0, 0, 1, 2, 1, 0, 0]\n",
      "Predicted   : [1, 1, 2, 2, 2, 0, 2, 0, 0, 0]\n"
     ]
    },
    {
     "data": {
      "application/vnd.jupyter.widget-view+json": {
       "model_id": "fdcc4b0f522b4e33bf8a17819fbe5d05",
       "version_major": 2,
       "version_minor": 0
      },
      "text/plain": [
       "Epoch 25/50:   0%|          | 0/1301 [00:00<?, ?it/s]"
      ]
     },
     "metadata": {},
     "output_type": "display_data"
    },
    {
     "name": "stdout",
     "output_type": "stream",
     "text": [
      "Epoch 25/50 | Train Loss: 0.7046 | Train Acc: 0.6796 | Val Loss: 1.4457 | Val Acc: 0.3875\n",
      "True labels:  [0, 0, 0, 0, 0, 1, 2, 1, 0, 0]\n",
      "Predicted   : [0, 0, 0, 0, 0, 0, 0, 0, 0, 0]\n"
     ]
    },
    {
     "data": {
      "application/vnd.jupyter.widget-view+json": {
       "model_id": "055d32a1523c48f89593b37d0659c276",
       "version_major": 2,
       "version_minor": 0
      },
      "text/plain": [
       "Epoch 26/50:   0%|          | 0/1301 [00:00<?, ?it/s]"
      ]
     },
     "metadata": {},
     "output_type": "display_data"
    },
    {
     "name": "stdout",
     "output_type": "stream",
     "text": [
      "Epoch 26/50 | Train Loss: 0.7009 | Train Acc: 0.6800 | Val Loss: 1.4524 | Val Acc: 0.3870\n",
      "True labels:  [0, 0, 0, 0, 0, 1, 2, 1, 0, 0]\n",
      "Predicted   : [2, 0, 2, 2, 0, 0, 0, 0, 0, 0]\n"
     ]
    },
    {
     "data": {
      "application/vnd.jupyter.widget-view+json": {
       "model_id": "847d3115dda84749adcefa5796bb2930",
       "version_major": 2,
       "version_minor": 0
      },
      "text/plain": [
       "Epoch 27/50:   0%|          | 0/1301 [00:00<?, ?it/s]"
      ]
     },
     "metadata": {},
     "output_type": "display_data"
    },
    {
     "name": "stdout",
     "output_type": "stream",
     "text": [
      "Epoch 27/50 | Train Loss: 0.6977 | Train Acc: 0.6829 | Val Loss: 1.4580 | Val Acc: 0.3862\n",
      "True labels:  [0, 0, 0, 0, 0, 1, 2, 1, 0, 0]\n",
      "Predicted   : [1, 0, 0, 1, 2, 0, 1, 0, 0, 0]\n"
     ]
    },
    {
     "data": {
      "application/vnd.jupyter.widget-view+json": {
       "model_id": "c65c7c2967f44fec8dbdebd8ac44f1f0",
       "version_major": 2,
       "version_minor": 0
      },
      "text/plain": [
       "Epoch 28/50:   0%|          | 0/1301 [00:00<?, ?it/s]"
      ]
     },
     "metadata": {},
     "output_type": "display_data"
    },
    {
     "name": "stdout",
     "output_type": "stream",
     "text": [
      "Epoch 28/50 | Train Loss: 0.6938 | Train Acc: 0.6849 | Val Loss: 1.4683 | Val Acc: 0.3842\n",
      "True labels:  [0, 0, 0, 0, 0, 1, 2, 1, 0, 0]\n",
      "Predicted   : [0, 1, 0, 0, 0, 0, 2, 0, 0, 0]\n"
     ]
    },
    {
     "data": {
      "application/vnd.jupyter.widget-view+json": {
       "model_id": "7868533da8304dd88aca6adeb7a93023",
       "version_major": 2,
       "version_minor": 0
      },
      "text/plain": [
       "Epoch 29/50:   0%|          | 0/1301 [00:00<?, ?it/s]"
      ]
     },
     "metadata": {},
     "output_type": "display_data"
    },
    {
     "name": "stdout",
     "output_type": "stream",
     "text": [
      "Epoch 29/50 | Train Loss: 0.6924 | Train Acc: 0.6854 | Val Loss: 1.4615 | Val Acc: 0.3836\n",
      "True labels:  [0, 0, 0, 0, 0, 1, 2, 1, 0, 0]\n",
      "Predicted   : [0, 0, 0, 0, 0, 0, 2, 0, 2, 0]\n"
     ]
    },
    {
     "data": {
      "application/vnd.jupyter.widget-view+json": {
       "model_id": "9f1480a6df744f92bfa70565f548c295",
       "version_major": 2,
       "version_minor": 0
      },
      "text/plain": [
       "Epoch 30/50:   0%|          | 0/1301 [00:00<?, ?it/s]"
      ]
     },
     "metadata": {},
     "output_type": "display_data"
    },
    {
     "name": "stdout",
     "output_type": "stream",
     "text": [
      "Epoch 30/50 | Train Loss: 0.6902 | Train Acc: 0.6887 | Val Loss: 1.4667 | Val Acc: 0.3841\n",
      "True labels:  [0, 0, 0, 0, 0, 1, 2, 1, 0, 0]\n",
      "Predicted   : [0, 0, 0, 0, 0, 1, 0, 0, 0, 0]\n"
     ]
    },
    {
     "data": {
      "application/vnd.jupyter.widget-view+json": {
       "model_id": "4cdeb4b35ae6484ab6f324a366b2c010",
       "version_major": 2,
       "version_minor": 0
      },
      "text/plain": [
       "Epoch 31/50:   0%|          | 0/1301 [00:00<?, ?it/s]"
      ]
     },
     "metadata": {},
     "output_type": "display_data"
    },
    {
     "name": "stdout",
     "output_type": "stream",
     "text": [
      "Epoch 31/50 | Train Loss: 0.6877 | Train Acc: 0.6883 | Val Loss: 1.4718 | Val Acc: 0.3832\n",
      "True labels:  [0, 0, 0, 0, 0, 1, 2, 1, 0, 0]\n",
      "Predicted   : [0, 2, 0, 0, 0, 0, 0, 0, 0, 0]\n"
     ]
    },
    {
     "data": {
      "application/vnd.jupyter.widget-view+json": {
       "model_id": "9d13ac944d214d4794f0124021fb9380",
       "version_major": 2,
       "version_minor": 0
      },
      "text/plain": [
       "Epoch 32/50:   0%|          | 0/1301 [00:00<?, ?it/s]"
      ]
     },
     "metadata": {},
     "output_type": "display_data"
    },
    {
     "name": "stdout",
     "output_type": "stream",
     "text": [
      "Epoch 32/50 | Train Loss: 0.6861 | Train Acc: 0.6908 | Val Loss: 1.4723 | Val Acc: 0.3839\n",
      "True labels:  [0, 0, 0, 0, 0, 1, 2, 1, 0, 0]\n",
      "Predicted   : [0, 2, 0, 0, 0, 0, 0, 1, 0, 0]\n"
     ]
    },
    {
     "data": {
      "application/vnd.jupyter.widget-view+json": {
       "model_id": "5ab5cdfc3b704630b5d76f93e77d276b",
       "version_major": 2,
       "version_minor": 0
      },
      "text/plain": [
       "Epoch 33/50:   0%|          | 0/1301 [00:00<?, ?it/s]"
      ]
     },
     "metadata": {},
     "output_type": "display_data"
    },
    {
     "name": "stdout",
     "output_type": "stream",
     "text": [
      "Epoch 33/50 | Train Loss: 0.6826 | Train Acc: 0.6913 | Val Loss: 1.4756 | Val Acc: 0.3831\n",
      "True labels:  [0, 0, 0, 0, 0, 1, 2, 1, 0, 0]\n",
      "Predicted   : [0, 0, 0, 0, 0, 0, 0, 0, 0, 0]\n"
     ]
    },
    {
     "data": {
      "application/vnd.jupyter.widget-view+json": {
       "model_id": "2def653009c64e6e936479e0201a96a3",
       "version_major": 2,
       "version_minor": 0
      },
      "text/plain": [
       "Epoch 34/50:   0%|          | 0/1301 [00:00<?, ?it/s]"
      ]
     },
     "metadata": {},
     "output_type": "display_data"
    },
    {
     "name": "stdout",
     "output_type": "stream",
     "text": [
      "Epoch 34/50 | Train Loss: 0.6840 | Train Acc: 0.6907 | Val Loss: 1.4756 | Val Acc: 0.3835\n",
      "True labels:  [0, 0, 0, 0, 0, 1, 2, 1, 0, 0]\n",
      "Predicted   : [0, 0, 0, 0, 0, 1, 0, 0, 0, 0]\n"
     ]
    },
    {
     "data": {
      "application/vnd.jupyter.widget-view+json": {
       "model_id": "4cf7a81af68e4249babd33a756fd5ed5",
       "version_major": 2,
       "version_minor": 0
      },
      "text/plain": [
       "Epoch 35/50:   0%|          | 0/1301 [00:00<?, ?it/s]"
      ]
     },
     "metadata": {},
     "output_type": "display_data"
    },
    {
     "name": "stdout",
     "output_type": "stream",
     "text": [
      "Epoch 35/50 | Train Loss: 0.6816 | Train Acc: 0.6914 | Val Loss: 1.4787 | Val Acc: 0.3833\n",
      "True labels:  [0, 0, 0, 0, 0, 1, 2, 1, 0, 0]\n",
      "Predicted   : [2, 0, 2, 0, 0, 1, 0, 0, 0, 2]\n"
     ]
    },
    {
     "data": {
      "application/vnd.jupyter.widget-view+json": {
       "model_id": "9ebeef139a5f4d5aaa12d103eaf70061",
       "version_major": 2,
       "version_minor": 0
      },
      "text/plain": [
       "Epoch 36/50:   0%|          | 0/1301 [00:00<?, ?it/s]"
      ]
     },
     "metadata": {},
     "output_type": "display_data"
    },
    {
     "name": "stdout",
     "output_type": "stream",
     "text": [
      "Epoch 36/50 | Train Loss: 0.6825 | Train Acc: 0.6924 | Val Loss: 1.4799 | Val Acc: 0.3833\n",
      "True labels:  [0, 0, 0, 0, 0, 1, 2, 1, 0, 0]\n",
      "Predicted   : [0, 2, 0, 0, 0, 0, 0, 0, 2, 0]\n"
     ]
    },
    {
     "data": {
      "application/vnd.jupyter.widget-view+json": {
       "model_id": "7e5ae6503c934dfd8c3983a1aa29714f",
       "version_major": 2,
       "version_minor": 0
      },
      "text/plain": [
       "Epoch 37/50:   0%|          | 0/1301 [00:00<?, ?it/s]"
      ]
     },
     "metadata": {},
     "output_type": "display_data"
    },
    {
     "name": "stdout",
     "output_type": "stream",
     "text": [
      "Epoch 37/50 | Train Loss: 0.6778 | Train Acc: 0.6926 | Val Loss: 1.4811 | Val Acc: 0.3834\n",
      "True labels:  [0, 0, 0, 0, 0, 1, 2, 1, 0, 0]\n",
      "Predicted   : [1, 0, 0, 0, 0, 0, 0, 2, 0, 0]\n"
     ]
    },
    {
     "data": {
      "application/vnd.jupyter.widget-view+json": {
       "model_id": "1d6e12cbe94042f2b6f6bd98aa4b4ed4",
       "version_major": 2,
       "version_minor": 0
      },
      "text/plain": [
       "Epoch 38/50:   0%|          | 0/1301 [00:00<?, ?it/s]"
      ]
     },
     "metadata": {},
     "output_type": "display_data"
    },
    {
     "name": "stdout",
     "output_type": "stream",
     "text": [
      "Epoch 38/50 | Train Loss: 0.6780 | Train Acc: 0.6933 | Val Loss: 1.4824 | Val Acc: 0.3836\n",
      "True labels:  [0, 0, 0, 0, 0, 1, 2, 1, 0, 0]\n",
      "Predicted   : [0, 0, 0, 0, 1, 0, 1, 2, 0, 1]\n"
     ]
    },
    {
     "data": {
      "application/vnd.jupyter.widget-view+json": {
       "model_id": "3f9caec9465d4008b780d5d6f803e904",
       "version_major": 2,
       "version_minor": 0
      },
      "text/plain": [
       "Epoch 39/50:   0%|          | 0/1301 [00:00<?, ?it/s]"
      ]
     },
     "metadata": {},
     "output_type": "display_data"
    },
    {
     "name": "stdout",
     "output_type": "stream",
     "text": [
      "Epoch 39/50 | Train Loss: 0.6771 | Train Acc: 0.6934 | Val Loss: 1.4837 | Val Acc: 0.3833\n",
      "True labels:  [0, 0, 0, 0, 0, 1, 2, 1, 0, 0]\n",
      "Predicted   : [0, 0, 0, 0, 0, 0, 0, 0, 0, 0]\n"
     ]
    },
    {
     "data": {
      "application/vnd.jupyter.widget-view+json": {
       "model_id": "7362bb07a5cc427fb4c6d63baba06b39",
       "version_major": 2,
       "version_minor": 0
      },
      "text/plain": [
       "Epoch 40/50:   0%|          | 0/1301 [00:00<?, ?it/s]"
      ]
     },
     "metadata": {},
     "output_type": "display_data"
    },
    {
     "name": "stdout",
     "output_type": "stream",
     "text": [
      "Epoch 40/50 | Train Loss: 0.6803 | Train Acc: 0.6914 | Val Loss: 1.4828 | Val Acc: 0.3831\n",
      "True labels:  [0, 0, 0, 0, 0, 1, 2, 1, 0, 0]\n",
      "Predicted   : [0, 1, 0, 0, 0, 0, 1, 0, 1, 0]\n"
     ]
    },
    {
     "data": {
      "application/vnd.jupyter.widget-view+json": {
       "model_id": "36ccf1e115b14275b4a463dc08578b7b",
       "version_major": 2,
       "version_minor": 0
      },
      "text/plain": [
       "Epoch 41/50:   0%|          | 0/1301 [00:00<?, ?it/s]"
      ]
     },
     "metadata": {},
     "output_type": "display_data"
    },
    {
     "name": "stdout",
     "output_type": "stream",
     "text": [
      "Epoch 41/50 | Train Loss: 0.6789 | Train Acc: 0.6907 | Val Loss: 1.4835 | Val Acc: 0.3831\n",
      "True labels:  [0, 0, 0, 0, 0, 1, 2, 1, 0, 0]\n",
      "Predicted   : [0, 0, 2, 1, 0, 0, 0, 0, 0, 0]\n"
     ]
    },
    {
     "data": {
      "application/vnd.jupyter.widget-view+json": {
       "model_id": "ae9a50091d534c99b11fd3ae7ec3f900",
       "version_major": 2,
       "version_minor": 0
      },
      "text/plain": [
       "Epoch 42/50:   0%|          | 0/1301 [00:00<?, ?it/s]"
      ]
     },
     "metadata": {},
     "output_type": "display_data"
    },
    {
     "name": "stdout",
     "output_type": "stream",
     "text": [
      "Epoch 42/50 | Train Loss: 0.6790 | Train Acc: 0.6935 | Val Loss: 1.4842 | Val Acc: 0.3832\n",
      "True labels:  [0, 0, 0, 0, 0, 1, 2, 1, 0, 0]\n",
      "Predicted   : [1, 0, 1, 2, 0, 0, 0, 0, 0, 0]\n"
     ]
    },
    {
     "data": {
      "application/vnd.jupyter.widget-view+json": {
       "model_id": "007b25dbc385489c95e061aa38c19299",
       "version_major": 2,
       "version_minor": 0
      },
      "text/plain": [
       "Epoch 43/50:   0%|          | 0/1301 [00:00<?, ?it/s]"
      ]
     },
     "metadata": {},
     "output_type": "display_data"
    },
    {
     "name": "stdout",
     "output_type": "stream",
     "text": [
      "Epoch 43/50 | Train Loss: 0.6775 | Train Acc: 0.6931 | Val Loss: 1.4849 | Val Acc: 0.3833\n",
      "True labels:  [0, 0, 0, 0, 0, 1, 2, 1, 0, 0]\n",
      "Predicted   : [0, 1, 0, 0, 0, 0, 0, 0, 0, 1]\n"
     ]
    },
    {
     "data": {
      "application/vnd.jupyter.widget-view+json": {
       "model_id": "f1957f067a894e9fa946960d96577202",
       "version_major": 2,
       "version_minor": 0
      },
      "text/plain": [
       "Epoch 44/50:   0%|          | 0/1301 [00:00<?, ?it/s]"
      ]
     },
     "metadata": {},
     "output_type": "display_data"
    },
    {
     "name": "stdout",
     "output_type": "stream",
     "text": [
      "Epoch 44/50 | Train Loss: 0.6789 | Train Acc: 0.6936 | Val Loss: 1.4850 | Val Acc: 0.3829\n",
      "True labels:  [0, 0, 0, 0, 0, 1, 2, 1, 0, 0]\n",
      "Predicted   : [2, 0, 0, 0, 0, 0, 2, 2, 1, 0]\n"
     ]
    },
    {
     "data": {
      "application/vnd.jupyter.widget-view+json": {
       "model_id": "d3166fb0fc464baba26b502d2bb84fac",
       "version_major": 2,
       "version_minor": 0
      },
      "text/plain": [
       "Epoch 45/50:   0%|          | 0/1301 [00:00<?, ?it/s]"
      ]
     },
     "metadata": {},
     "output_type": "display_data"
    },
    {
     "name": "stdout",
     "output_type": "stream",
     "text": [
      "Epoch 45/50 | Train Loss: 0.6755 | Train Acc: 0.6951 | Val Loss: 1.4851 | Val Acc: 0.3831\n",
      "True labels:  [0, 0, 0, 0, 0, 1, 2, 1, 0, 0]\n",
      "Predicted   : [1, 0, 0, 1, 0, 0, 0, 0, 0, 2]\n"
     ]
    },
    {
     "data": {
      "application/vnd.jupyter.widget-view+json": {
       "model_id": "dfc3985b8807438690c6b7edab276413",
       "version_major": 2,
       "version_minor": 0
      },
      "text/plain": [
       "Epoch 46/50:   0%|          | 0/1301 [00:00<?, ?it/s]"
      ]
     },
     "metadata": {},
     "output_type": "display_data"
    },
    {
     "name": "stdout",
     "output_type": "stream",
     "text": [
      "Epoch 46/50 | Train Loss: 0.6769 | Train Acc: 0.6926 | Val Loss: 1.4852 | Val Acc: 0.3831\n",
      "True labels:  [0, 0, 0, 0, 0, 1, 2, 1, 0, 0]\n",
      "Predicted   : [1, 0, 1, 0, 0, 0, 1, 1, 0, 0]\n"
     ]
    },
    {
     "data": {
      "application/vnd.jupyter.widget-view+json": {
       "model_id": "b214651973f54becbf5d439f091cad48",
       "version_major": 2,
       "version_minor": 0
      },
      "text/plain": [
       "Epoch 47/50:   0%|          | 0/1301 [00:00<?, ?it/s]"
      ]
     },
     "metadata": {},
     "output_type": "display_data"
    },
    {
     "name": "stdout",
     "output_type": "stream",
     "text": [
      "Epoch 47/50 | Train Loss: 0.6767 | Train Acc: 0.6943 | Val Loss: 1.4856 | Val Acc: 0.3829\n",
      "True labels:  [0, 0, 0, 0, 0, 1, 2, 1, 0, 0]\n",
      "Predicted   : [0, 0, 0, 0, 1, 0, 0, 0, 0, 0]\n"
     ]
    },
    {
     "data": {
      "application/vnd.jupyter.widget-view+json": {
       "model_id": "85a36d87e72244faa9e78bfdf9f2bb98",
       "version_major": 2,
       "version_minor": 0
      },
      "text/plain": [
       "Epoch 48/50:   0%|          | 0/1301 [00:00<?, ?it/s]"
      ]
     },
     "metadata": {},
     "output_type": "display_data"
    },
    {
     "name": "stdout",
     "output_type": "stream",
     "text": [
      "Epoch 48/50 | Train Loss: 0.6766 | Train Acc: 0.6949 | Val Loss: 1.4860 | Val Acc: 0.3830\n",
      "True labels:  [0, 0, 0, 0, 0, 1, 2, 1, 0, 0]\n",
      "Predicted   : [0, 2, 0, 0, 0, 0, 0, 0, 0, 0]\n"
     ]
    },
    {
     "data": {
      "application/vnd.jupyter.widget-view+json": {
       "model_id": "4d60702d4f9f41258dea1fd24713d88c",
       "version_major": 2,
       "version_minor": 0
      },
      "text/plain": [
       "Epoch 49/50:   0%|          | 0/1301 [00:00<?, ?it/s]"
      ]
     },
     "metadata": {},
     "output_type": "display_data"
    },
    {
     "name": "stdout",
     "output_type": "stream",
     "text": [
      "Epoch 49/50 | Train Loss: 0.6766 | Train Acc: 0.6954 | Val Loss: 1.4860 | Val Acc: 0.3829\n",
      "True labels:  [0, 0, 0, 0, 0, 1, 2, 1, 0, 0]\n",
      "Predicted   : [1, 0, 0, 0, 0, 0, 0, 0, 1, 0]\n"
     ]
    },
    {
     "data": {
      "application/vnd.jupyter.widget-view+json": {
       "model_id": "707b24abe53344b6945ccedcaddee5cd",
       "version_major": 2,
       "version_minor": 0
      },
      "text/plain": [
       "Epoch 50/50:   0%|          | 0/1301 [00:00<?, ?it/s]"
      ]
     },
     "metadata": {},
     "output_type": "display_data"
    },
    {
     "name": "stdout",
     "output_type": "stream",
     "text": [
      "Epoch 50/50 | Train Loss: 0.6777 | Train Acc: 0.6948 | Val Loss: 1.4861 | Val Acc: 0.3830\n",
      "True labels:  [0, 0, 0, 0, 0, 1, 2, 1, 0, 0]\n",
      "Predicted   : [1, 0, 0, 0, 0, 0, 0, 0, 0, 0]\n"
     ]
    }
   ],
   "source": [
    "if __name__ == \"__main__\":\n",
    "\n",
    "    # For saving best model\n",
    "    best_val_acc = 0.0\n",
    "\n",
    "    # Training loop\n",
    "    for epoch in range(num_epochs):\n",
    "        model.train()\n",
    "        running_loss = 0.0\n",
    "        correct = 0\n",
    "        total = 0\n",
    "\n",
    "        for batch_x, batch_y in tqdm(train_loader, desc=f\"Epoch {epoch+1}/{num_epochs}\"):\n",
    "            batch_x, batch_y = batch_x.to(device), batch_y.to(device)\n",
    "\n",
    "            optimizer.zero_grad()\n",
    "            outputs = model(batch_x)\n",
    "            loss = loss_func(outputs, batch_y)\n",
    "            loss.backward()\n",
    "            optimizer.step()\n",
    "\n",
    "            running_loss += loss.item() * batch_x.size(0)\n",
    "            _, predicted = torch.max(outputs, 1)\n",
    "            correct += (predicted == batch_y).sum().item()\n",
    "            total += batch_y.size(0)\n",
    "\n",
    "        epoch_loss = running_loss / total\n",
    "        epoch_acc = correct / total\n",
    "\n",
    "        # Validation phase\n",
    "        model.eval()\n",
    "        val_loss = 0.0\n",
    "        val_correct = 0\n",
    "        val_total = 0\n",
    "\n",
    "        with torch.no_grad():\n",
    "            for val_x, val_y in test_loader:\n",
    "                val_x, val_y = val_x.to(device), val_y.to(device)\n",
    "                val_outputs = model(val_x)\n",
    "                loss = loss_func(val_outputs, val_y)\n",
    "                val_loss += loss.item() * val_x.size(0)\n",
    "                _, val_predicted = torch.max(val_outputs, 1)\n",
    "                val_correct += (val_predicted == val_y).sum().item()\n",
    "                val_total += val_y.size(0)\n",
    "\n",
    "        val_loss /= val_total\n",
    "        val_acc = val_correct / val_total\n",
    "\n",
    "        # Step the LR scheduler\n",
    "        scheduler.step(val_loss)\n",
    "\n",
    "        # Save the best model\n",
    "        if val_acc > best_val_acc:\n",
    "            best_val_acc = val_acc\n",
    "            torch.save(model.state_dict(), \"best_model.pth\")\n",
    "\n",
    "        print(f\"Epoch {epoch+1}/{num_epochs} | \"\n",
    "            f\"Train Loss: {epoch_loss:.4f} | Train Acc: {epoch_acc:.4f} | \"\n",
    "            f\"Val Loss: {val_loss:.4f} | Val Acc: {val_acc:.4f}\")\n",
    "\n",
    "        # Print sample predictions\n",
    "        print(\"True labels: \", batch_y[:10].tolist())\n",
    "        print(\"Predicted   :\", predicted[:10].tolist())"
   ]
  },
  {
   "cell_type": "code",
   "execution_count": 162,
   "id": "6069ff2e",
   "metadata": {},
   "outputs": [
    {
     "name": "stdout",
     "output_type": "stream",
     "text": [
      "              precision    recall  f1-score   support\n",
      "\n",
      "           0     0.4092    0.3608    0.3835      3999\n",
      "           1     0.2590    0.1979    0.2244      2329\n",
      "           2     0.4082    0.5108    0.4538      4066\n",
      "\n",
      "    accuracy                         0.3830     10394\n",
      "   macro avg     0.3588    0.3565    0.3539     10394\n",
      "weighted avg     0.3752    0.3830    0.3754     10394\n",
      "\n"
     ]
    }
   ],
   "source": [
    "from sklearn.metrics import classification_report\n",
    "\n",
    "# Assuming val_y_true and val_y_pred are your true and predicted labels for the validation/test set\n",
    "val_y_true = []  # collect these from your validation loop\n",
    "val_y_pred = []\n",
    "\n",
    "model.eval()\n",
    "with torch.no_grad():\n",
    "    for val_x, val_y in test_loader:\n",
    "        val_x, val_y = val_x.to(device), val_y.to(device)\n",
    "        outputs = model(val_x)\n",
    "        _, preds = torch.max(outputs, 1)\n",
    "        val_y_true.extend(val_y.cpu().numpy())\n",
    "        val_y_pred.extend(preds.cpu().numpy())\n",
    "\n",
    "print(classification_report(val_y_true, val_y_pred, digits=4))"
   ]
  },
  {
   "cell_type": "code",
   "execution_count": 163,
   "id": "f2d5e04d",
   "metadata": {},
   "outputs": [
    {
     "name": "stdout",
     "output_type": "stream",
     "text": [
      "0:  0.36 1443 / 2556\n",
      "1:  0.2 461 / 1868\n",
      "2:  0.51 2077 / 1989\n"
     ]
    }
   ],
   "source": [
    "up_true = 0\n",
    "up_false = 0\n",
    "down_true = 0\n",
    "down_false = 0\n",
    "none_true = 0\n",
    "none_false = 0\n",
    "\n",
    "for i in range(len(val_y_true)):\n",
    "    \n",
    "    if val_y_true[i] == 0:\n",
    "        if val_y_true[i] == val_y_pred[i]:    \n",
    "            down_true += 1\n",
    "        else:\n",
    "            down_false += 1\n",
    "\n",
    "    elif val_y_true[i] == 1:\n",
    "        if val_y_true[i] == val_y_pred[i]:    \n",
    "            none_true += 1\n",
    "        else:\n",
    "            none_false += 1\n",
    "\n",
    "    elif val_y_true[i] == 2:\n",
    "        if val_y_true[i] == val_y_pred[i]:    \n",
    "            up_true += 1\n",
    "        else:\n",
    "            up_false += 1\n",
    "\n",
    "print('0: ', round(down_true/(down_true + down_false), 2), down_true, '/', down_false)\n",
    "print('1: ', round(none_true/(none_true + none_false), 2), none_true, '/', none_false)\n",
    "print('2: ', round(up_true/(up_true + up_false), 2), up_true, '/', up_false)\n"
   ]
  },
  {
   "cell_type": "code",
   "execution_count": 164,
   "id": "1ac32719",
   "metadata": {},
   "outputs": [
    {
     "name": "stdout",
     "output_type": "stream",
     "text": [
      "10394 10394\n"
     ]
    },
    {
     "data": {
      "text/plain": [
       "0"
      ]
     },
     "execution_count": 164,
     "metadata": {},
     "output_type": "execute_result"
    }
   ],
   "source": [
    "#X_test['True'] = val_y_true\n",
    "#X_test['Pred'] = val_y_pred\n",
    "y_test_copy = y_test[20:]\n",
    "\n",
    "print(len(y_test_copy), len(val_y_true))\n",
    "val_y_true\n",
    "\n",
    "count = 0\n",
    "for i in range(len(val_y_true)):\n",
    "    if int(y_test_copy.iloc[i]) != int(val_y_true[i]):\n",
    "        count += 1\n",
    "\n",
    "count"
   ]
  },
  {
   "cell_type": "code",
   "execution_count": 165,
   "id": "65d7821a",
   "metadata": {},
   "outputs": [
    {
     "name": "stderr",
     "output_type": "stream",
     "text": [
      "<ipython-input-165-debeb36c38c7>:2: SettingWithCopyWarning: \n",
      "A value is trying to be set on a copy of a slice from a DataFrame.\n",
      "Try using .loc[row_indexer,col_indexer] = value instead\n",
      "\n",
      "See the caveats in the documentation: https://pandas.pydata.org/pandas-docs/stable/user_guide/indexing.html#returning-a-view-versus-a-copy\n",
      "  X_test_eval['True'] = val_y_true\n",
      "<ipython-input-165-debeb36c38c7>:3: SettingWithCopyWarning: \n",
      "A value is trying to be set on a copy of a slice from a DataFrame.\n",
      "Try using .loc[row_indexer,col_indexer] = value instead\n",
      "\n",
      "See the caveats in the documentation: https://pandas.pydata.org/pandas-docs/stable/user_guide/indexing.html#returning-a-view-versus-a-copy\n",
      "  X_test_eval['Pred'] = val_y_pred\n"
     ]
    },
    {
     "data": {
      "text/html": [
       "<div>\n",
       "<style scoped>\n",
       "    .dataframe tbody tr th:only-of-type {\n",
       "        vertical-align: middle;\n",
       "    }\n",
       "\n",
       "    .dataframe tbody tr th {\n",
       "        vertical-align: top;\n",
       "    }\n",
       "\n",
       "    .dataframe thead th {\n",
       "        text-align: right;\n",
       "    }\n",
       "</style>\n",
       "<table border=\"1\" class=\"dataframe\">\n",
       "  <thead>\n",
       "    <tr style=\"text-align: right;\">\n",
       "      <th></th>\n",
       "      <th>Close</th>\n",
       "      <th>Volume</th>\n",
       "      <th>Close Eval</th>\n",
       "      <th>IFFT</th>\n",
       "      <th>IFFT Slope Short</th>\n",
       "      <th>IFFT Slope Mid</th>\n",
       "      <th>IFFT Slope Long</th>\n",
       "      <th>ATR</th>\n",
       "      <th>SuperTrend</th>\n",
       "      <th>RSI</th>\n",
       "      <th>...</th>\n",
       "      <th>CDL_ENGULFING</th>\n",
       "      <th>CDL_HANGINGMAN</th>\n",
       "      <th>CDL_SHOOTINGSTAR</th>\n",
       "      <th>CDL_MORNINGSTAR</th>\n",
       "      <th>CDL_EVENINGSTAR</th>\n",
       "      <th>Price Change Short</th>\n",
       "      <th>Price Change Mid</th>\n",
       "      <th>Price Change Long</th>\n",
       "      <th>True</th>\n",
       "      <th>Pred</th>\n",
       "    </tr>\n",
       "  </thead>\n",
       "  <tbody>\n",
       "    <tr>\n",
       "      <th>41672</th>\n",
       "      <td>0.140586</td>\n",
       "      <td>0.760947</td>\n",
       "      <td>0.857</td>\n",
       "      <td>-0.147468</td>\n",
       "      <td>0.737457</td>\n",
       "      <td>1.185985</td>\n",
       "      <td>1.862530</td>\n",
       "      <td>1.011215</td>\n",
       "      <td>0.088196</td>\n",
       "      <td>0.403889</td>\n",
       "      <td>...</td>\n",
       "      <td>0</td>\n",
       "      <td>0</td>\n",
       "      <td>0</td>\n",
       "      <td>0</td>\n",
       "      <td>0</td>\n",
       "      <td>2.316937</td>\n",
       "      <td>-22.714261</td>\n",
       "      <td>-6.403218</td>\n",
       "      <td>1</td>\n",
       "      <td>0</td>\n",
       "    </tr>\n",
       "    <tr>\n",
       "      <th>41673</th>\n",
       "      <td>0.075294</td>\n",
       "      <td>0.321899</td>\n",
       "      <td>0.852</td>\n",
       "      <td>-0.149749</td>\n",
       "      <td>0.228047</td>\n",
       "      <td>1.062358</td>\n",
       "      <td>1.778243</td>\n",
       "      <td>0.958362</td>\n",
       "      <td>0.271390</td>\n",
       "      <td>-0.159636</td>\n",
       "      <td>...</td>\n",
       "      <td>0</td>\n",
       "      <td>0</td>\n",
       "      <td>0</td>\n",
       "      <td>0</td>\n",
       "      <td>0</td>\n",
       "      <td>6.196581</td>\n",
       "      <td>-19.290505</td>\n",
       "      <td>-2.854224</td>\n",
       "      <td>0</td>\n",
       "      <td>0</td>\n",
       "    </tr>\n",
       "    <tr>\n",
       "      <th>41674</th>\n",
       "      <td>0.101456</td>\n",
       "      <td>0.085442</td>\n",
       "      <td>0.854</td>\n",
       "      <td>-0.151999</td>\n",
       "      <td>-0.303415</td>\n",
       "      <td>0.961813</td>\n",
       "      <td>1.686114</td>\n",
       "      <td>1.001969</td>\n",
       "      <td>0.253576</td>\n",
       "      <td>0.064826</td>\n",
       "      <td>...</td>\n",
       "      <td>0</td>\n",
       "      <td>0</td>\n",
       "      <td>0</td>\n",
       "      <td>0</td>\n",
       "      <td>0</td>\n",
       "      <td>2.272411</td>\n",
       "      <td>-18.981093</td>\n",
       "      <td>-0.000000</td>\n",
       "      <td>0</td>\n",
       "      <td>0</td>\n",
       "    </tr>\n",
       "    <tr>\n",
       "      <th>41675</th>\n",
       "      <td>0.101456</td>\n",
       "      <td>-0.364934</td>\n",
       "      <td>0.854</td>\n",
       "      <td>-0.154233</td>\n",
       "      <td>-0.803257</td>\n",
       "      <td>0.858250</td>\n",
       "      <td>1.574302</td>\n",
       "      <td>0.599333</td>\n",
       "      <td>0.243075</td>\n",
       "      <td>0.064826</td>\n",
       "      <td>...</td>\n",
       "      <td>0</td>\n",
       "      <td>0</td>\n",
       "      <td>0</td>\n",
       "      <td>0</td>\n",
       "      <td>0</td>\n",
       "      <td>5.454543</td>\n",
       "      <td>-17.438969</td>\n",
       "      <td>3.051172</td>\n",
       "      <td>0</td>\n",
       "      <td>0</td>\n",
       "    </tr>\n",
       "    <tr>\n",
       "      <th>41676</th>\n",
       "      <td>0.153599</td>\n",
       "      <td>1.071738</td>\n",
       "      <td>0.858</td>\n",
       "      <td>-0.155273</td>\n",
       "      <td>-1.086613</td>\n",
       "      <td>0.789695</td>\n",
       "      <td>1.472651</td>\n",
       "      <td>0.516722</td>\n",
       "      <td>0.243075</td>\n",
       "      <td>0.511493</td>\n",
       "      <td>...</td>\n",
       "      <td>0</td>\n",
       "      <td>0</td>\n",
       "      <td>0</td>\n",
       "      <td>0</td>\n",
       "      <td>0</td>\n",
       "      <td>5.602734</td>\n",
       "      <td>-18.334670</td>\n",
       "      <td>-2.960832</td>\n",
       "      <td>0</td>\n",
       "      <td>0</td>\n",
       "    </tr>\n",
       "    <tr>\n",
       "      <th>...</th>\n",
       "      <td>...</td>\n",
       "      <td>...</td>\n",
       "      <td>...</td>\n",
       "      <td>...</td>\n",
       "      <td>...</td>\n",
       "      <td>...</td>\n",
       "      <td>...</td>\n",
       "      <td>...</td>\n",
       "      <td>...</td>\n",
       "      <td>...</td>\n",
       "      <td>...</td>\n",
       "      <td>...</td>\n",
       "      <td>...</td>\n",
       "      <td>...</td>\n",
       "      <td>...</td>\n",
       "      <td>...</td>\n",
       "      <td>...</td>\n",
       "      <td>...</td>\n",
       "      <td>...</td>\n",
       "      <td>...</td>\n",
       "      <td>...</td>\n",
       "    </tr>\n",
       "    <tr>\n",
       "      <th>52061</th>\n",
       "      <td>-0.029975</td>\n",
       "      <td>-2.788366</td>\n",
       "      <td>0.844</td>\n",
       "      <td>-0.171217</td>\n",
       "      <td>-0.650863</td>\n",
       "      <td>-0.352519</td>\n",
       "      <td>-0.246379</td>\n",
       "      <td>-0.911330</td>\n",
       "      <td>0.025749</td>\n",
       "      <td>-0.259319</td>\n",
       "      <td>...</td>\n",
       "      <td>0</td>\n",
       "      <td>0</td>\n",
       "      <td>0</td>\n",
       "      <td>0</td>\n",
       "      <td>0</td>\n",
       "      <td>2.136767</td>\n",
       "      <td>-1.379548</td>\n",
       "      <td>59.292960</td>\n",
       "      <td>1</td>\n",
       "      <td>2</td>\n",
       "    </tr>\n",
       "    <tr>\n",
       "      <th>52062</th>\n",
       "      <td>0.009617</td>\n",
       "      <td>-0.404173</td>\n",
       "      <td>0.847</td>\n",
       "      <td>-0.170560</td>\n",
       "      <td>-0.496538</td>\n",
       "      <td>-0.333947</td>\n",
       "      <td>-0.253663</td>\n",
       "      <td>-0.861867</td>\n",
       "      <td>0.025749</td>\n",
       "      <td>0.380360</td>\n",
       "      <td>...</td>\n",
       "      <td>0</td>\n",
       "      <td>0</td>\n",
       "      <td>0</td>\n",
       "      <td>0</td>\n",
       "      <td>0</td>\n",
       "      <td>1.440775</td>\n",
       "      <td>-2.092065</td>\n",
       "      <td>62.746403</td>\n",
       "      <td>1</td>\n",
       "      <td>2</td>\n",
       "    </tr>\n",
       "    <tr>\n",
       "      <th>52063</th>\n",
       "      <td>0.022783</td>\n",
       "      <td>-0.671661</td>\n",
       "      <td>0.848</td>\n",
       "      <td>-0.169367</td>\n",
       "      <td>-0.214072</td>\n",
       "      <td>-0.263586</td>\n",
       "      <td>-0.210645</td>\n",
       "      <td>-0.908912</td>\n",
       "      <td>0.025749</td>\n",
       "      <td>0.570835</td>\n",
       "      <td>...</td>\n",
       "      <td>0</td>\n",
       "      <td>0</td>\n",
       "      <td>0</td>\n",
       "      <td>0</td>\n",
       "      <td>0</td>\n",
       "      <td>0.719963</td>\n",
       "      <td>-5.436513</td>\n",
       "      <td>53.250291</td>\n",
       "      <td>1</td>\n",
       "      <td>2</td>\n",
       "    </tr>\n",
       "    <tr>\n",
       "      <th>52064</th>\n",
       "      <td>-0.003565</td>\n",
       "      <td>-0.649231</td>\n",
       "      <td>0.846</td>\n",
       "      <td>-0.168501</td>\n",
       "      <td>0.047747</td>\n",
       "      <td>-0.193965</td>\n",
       "      <td>-0.171443</td>\n",
       "      <td>-0.860213</td>\n",
       "      <td>0.025749</td>\n",
       "      <td>0.120516</td>\n",
       "      <td>...</td>\n",
       "      <td>-100</td>\n",
       "      <td>0</td>\n",
       "      <td>0</td>\n",
       "      <td>0</td>\n",
       "      <td>-100</td>\n",
       "      <td>-0.702257</td>\n",
       "      <td>-2.755830</td>\n",
       "      <td>57.069972</td>\n",
       "      <td>1</td>\n",
       "      <td>2</td>\n",
       "    </tr>\n",
       "    <tr>\n",
       "      <th>52065</th>\n",
       "      <td>-0.003565</td>\n",
       "      <td>-5.955274</td>\n",
       "      <td>0.846</td>\n",
       "      <td>-0.167841</td>\n",
       "      <td>0.244747</td>\n",
       "      <td>-0.135443</td>\n",
       "      <td>-0.136313</td>\n",
       "      <td>-1.172683</td>\n",
       "      <td>0.025749</td>\n",
       "      <td>0.120516</td>\n",
       "      <td>...</td>\n",
       "      <td>0</td>\n",
       "      <td>0</td>\n",
       "      <td>0</td>\n",
       "      <td>0</td>\n",
       "      <td>0</td>\n",
       "      <td>-2.080003</td>\n",
       "      <td>-2.080003</td>\n",
       "      <td>46.327039</td>\n",
       "      <td>1</td>\n",
       "      <td>2</td>\n",
       "    </tr>\n",
       "  </tbody>\n",
       "</table>\n",
       "<p>10394 rows × 25 columns</p>\n",
       "</div>"
      ],
      "text/plain": [
       "          Close    Volume  Close Eval      IFFT  IFFT Slope Short  \\\n",
       "41672  0.140586  0.760947       0.857 -0.147468          0.737457   \n",
       "41673  0.075294  0.321899       0.852 -0.149749          0.228047   \n",
       "41674  0.101456  0.085442       0.854 -0.151999         -0.303415   \n",
       "41675  0.101456 -0.364934       0.854 -0.154233         -0.803257   \n",
       "41676  0.153599  1.071738       0.858 -0.155273         -1.086613   \n",
       "...         ...       ...         ...       ...               ...   \n",
       "52061 -0.029975 -2.788366       0.844 -0.171217         -0.650863   \n",
       "52062  0.009617 -0.404173       0.847 -0.170560         -0.496538   \n",
       "52063  0.022783 -0.671661       0.848 -0.169367         -0.214072   \n",
       "52064 -0.003565 -0.649231       0.846 -0.168501          0.047747   \n",
       "52065 -0.003565 -5.955274       0.846 -0.167841          0.244747   \n",
       "\n",
       "       IFFT Slope Mid  IFFT Slope Long       ATR  SuperTrend       RSI  ...  \\\n",
       "41672        1.185985         1.862530  1.011215    0.088196  0.403889  ...   \n",
       "41673        1.062358         1.778243  0.958362    0.271390 -0.159636  ...   \n",
       "41674        0.961813         1.686114  1.001969    0.253576  0.064826  ...   \n",
       "41675        0.858250         1.574302  0.599333    0.243075  0.064826  ...   \n",
       "41676        0.789695         1.472651  0.516722    0.243075  0.511493  ...   \n",
       "...               ...              ...       ...         ...       ...  ...   \n",
       "52061       -0.352519        -0.246379 -0.911330    0.025749 -0.259319  ...   \n",
       "52062       -0.333947        -0.253663 -0.861867    0.025749  0.380360  ...   \n",
       "52063       -0.263586        -0.210645 -0.908912    0.025749  0.570835  ...   \n",
       "52064       -0.193965        -0.171443 -0.860213    0.025749  0.120516  ...   \n",
       "52065       -0.135443        -0.136313 -1.172683    0.025749  0.120516  ...   \n",
       "\n",
       "       CDL_ENGULFING  CDL_HANGINGMAN  CDL_SHOOTINGSTAR  CDL_MORNINGSTAR  \\\n",
       "41672              0               0                 0                0   \n",
       "41673              0               0                 0                0   \n",
       "41674              0               0                 0                0   \n",
       "41675              0               0                 0                0   \n",
       "41676              0               0                 0                0   \n",
       "...              ...             ...               ...              ...   \n",
       "52061              0               0                 0                0   \n",
       "52062              0               0                 0                0   \n",
       "52063              0               0                 0                0   \n",
       "52064           -100               0                 0                0   \n",
       "52065              0               0                 0                0   \n",
       "\n",
       "       CDL_EVENINGSTAR  Price Change Short  Price Change Mid  \\\n",
       "41672                0            2.316937        -22.714261   \n",
       "41673                0            6.196581        -19.290505   \n",
       "41674                0            2.272411        -18.981093   \n",
       "41675                0            5.454543        -17.438969   \n",
       "41676                0            5.602734        -18.334670   \n",
       "...                ...                 ...               ...   \n",
       "52061                0            2.136767         -1.379548   \n",
       "52062                0            1.440775         -2.092065   \n",
       "52063                0            0.719963         -5.436513   \n",
       "52064             -100           -0.702257         -2.755830   \n",
       "52065                0           -2.080003         -2.080003   \n",
       "\n",
       "       Price Change Long  True  Pred  \n",
       "41672          -6.403218     1     0  \n",
       "41673          -2.854224     0     0  \n",
       "41674          -0.000000     0     0  \n",
       "41675           3.051172     0     0  \n",
       "41676          -2.960832     0     0  \n",
       "...                  ...   ...   ...  \n",
       "52061          59.292960     1     2  \n",
       "52062          62.746403     1     2  \n",
       "52063          53.250291     1     2  \n",
       "52064          57.069972     1     2  \n",
       "52065          46.327039     1     2  \n",
       "\n",
       "[10394 rows x 25 columns]"
      ]
     },
     "execution_count": 165,
     "metadata": {},
     "output_type": "execute_result"
    }
   ],
   "source": [
    "X_test_eval = X_test[20:]\n",
    "X_test_eval['True'] = val_y_true\n",
    "X_test_eval['Pred'] = val_y_pred\n",
    "X_test_eval"
   ]
  },
  {
   "cell_type": "code",
   "execution_count": 166,
   "id": "c928fd12",
   "metadata": {},
   "outputs": [
    {
     "name": "stdout",
     "output_type": "stream",
     "text": [
      "0:  0.37 378 / 657\n",
      "1:  0.19 212 / 916\n",
      "2:  0.51 519 / 500\n"
     ]
    }
   ],
   "source": [
    "up_true = 0\n",
    "up_false = 0\n",
    "down_true = 0\n",
    "down_false = 0\n",
    "none_true = 0\n",
    "none_false = 0\n",
    "\n",
    "for i in range(len(X_test_eval['True'])):\n",
    "\n",
    "    if X_test_eval['IFFT Slope Short'].iloc[i] < -0.25 and X_test_eval['IFFT Slope Long'].iloc[i] < 0:\n",
    "        if X_test_eval['True'].iloc[i] == 0:\n",
    "            if X_test_eval['True'].iloc[i] == X_test_eval['Pred'].iloc[i]:    \n",
    "                down_true += 1\n",
    "            else:\n",
    "                down_false += 1\n",
    "\n",
    "        elif X_test_eval['True'].iloc[i] == 1:\n",
    "            if X_test_eval['True'].iloc[i] == X_test_eval['Pred'].iloc[i]:   \n",
    "                none_true += 1\n",
    "            else:\n",
    "                none_false += 1\n",
    "\n",
    "    elif X_test_eval['IFFT Slope Short'].iloc[i] > 0.25 and X_test_eval['IFFT Slope Long'].iloc[i] > 0: \n",
    "\n",
    "        if X_test_eval['True'].iloc[i] == 2:\n",
    "            if X_test_eval['True'].iloc[i] == X_test_eval['Pred'].iloc[i]:    \n",
    "                up_true += 1\n",
    "            else:\n",
    "                up_false += 1\n",
    "\n",
    "        elif X_test_eval['True'].iloc[i] == 1:\n",
    "            if X_test_eval['True'].iloc[i] == X_test_eval['Pred'].iloc[i]:   \n",
    "                none_true += 1\n",
    "            else:\n",
    "                none_false += 1\n",
    "\n",
    "print('0: ', round(down_true/(down_true + down_false), 2), down_true, '/', down_false)\n",
    "print('1: ', round(none_true/(none_true + none_false), 2), none_true, '/', none_false)\n",
    "print('2: ', round(up_true/(up_true + up_false), 2), up_true, '/', up_false)"
   ]
  }
 ],
 "metadata": {
  "kernelspec": {
   "display_name": "Python 3",
   "language": "python",
   "name": "python3"
  },
  "language_info": {
   "codemirror_mode": {
    "name": "ipython",
    "version": 3
   },
   "file_extension": ".py",
   "mimetype": "text/x-python",
   "name": "python",
   "nbconvert_exporter": "python",
   "pygments_lexer": "ipython3",
   "version": "3.8.1"
  }
 },
 "nbformat": 4,
 "nbformat_minor": 5
}
